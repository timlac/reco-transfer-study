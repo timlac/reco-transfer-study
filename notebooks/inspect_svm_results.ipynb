{
 "cells": [
  {
   "metadata": {},
   "cell_type": "markdown",
   "source": "It is difficult to compare human rater data with machine learning outcomes, the human rater data has much more ratings, while the machine learning data only has one rating per item.\n",
   "id": "8256232d5cb0b1f0"
  },
  {
   "metadata": {
    "collapsed": true,
    "ExecuteTime": {
     "end_time": "2025-03-11T19:13:18.059341Z",
     "start_time": "2025-03-11T19:13:18.023185Z"
    }
   },
   "cell_type": "code",
   "outputs": [],
   "execution_count": 1,
   "source": [
    "import pandas as pd\n",
    "import os\n",
    "\n",
    "import numpy as np\n",
    "\n",
    "import seaborn as sns\n",
    "from sklearn.metrics import confusion_matrix\n",
    "\n",
    "import matplotlib.pyplot as plt"
   ],
   "id": "initial_id"
  },
  {
   "metadata": {
    "ExecuteTime": {
     "end_time": "2025-03-11T19:13:24.655057Z",
     "start_time": "2025-03-11T19:13:24.652467Z"
    }
   },
   "cell_type": "code",
   "source": "from nexa_py_sentimotion_mapper.sentimotion_mapper import Mapper",
   "id": "c2287b113dec2e83",
   "outputs": [],
   "execution_count": 2
  },
  {
   "metadata": {
    "ExecuteTime": {
     "end_time": "2025-03-11T19:13:36.961745Z",
     "start_time": "2025-03-11T19:13:36.956464Z"
    }
   },
   "cell_type": "code",
   "source": "from constants import ROOT_DIR",
   "id": "881c1d963f7df577",
   "outputs": [],
   "execution_count": 3
  },
  {
   "metadata": {
    "ExecuteTime": {
     "end_time": "2025-03-11T19:14:05.664595Z",
     "start_time": "2025-03-11T19:14:05.656216Z"
    }
   },
   "cell_type": "code",
   "source": [
    "path = os.path.join(ROOT_DIR, \"data/out/multimodal_results.csv\")\n",
    "\n",
    "df = pd.read_csv(path)\n",
    "print(df.shape)\n",
    "df.head()"
   ],
   "id": "d33a424f35fe3f6e",
   "outputs": [
    {
     "name": "stdout",
     "output_type": "stream",
     "text": [
      "(576, 3)\n"
     ]
    },
    {
     "data": {
      "text/plain": [
       "       condition   y  y_pred\n",
       "0  furhat_audio_  29      29\n",
       "1  furhat_audio_   3       2\n",
       "2  furhat_audio_  37      37\n",
       "3  furhat_audio_  26      37\n",
       "4  furhat_audio_   1       2"
      ],
      "text/html": [
       "<div>\n",
       "<style scoped>\n",
       "    .dataframe tbody tr th:only-of-type {\n",
       "        vertical-align: middle;\n",
       "    }\n",
       "\n",
       "    .dataframe tbody tr th {\n",
       "        vertical-align: top;\n",
       "    }\n",
       "\n",
       "    .dataframe thead th {\n",
       "        text-align: right;\n",
       "    }\n",
       "</style>\n",
       "<table border=\"1\" class=\"dataframe\">\n",
       "  <thead>\n",
       "    <tr style=\"text-align: right;\">\n",
       "      <th></th>\n",
       "      <th>condition</th>\n",
       "      <th>y</th>\n",
       "      <th>y_pred</th>\n",
       "    </tr>\n",
       "  </thead>\n",
       "  <tbody>\n",
       "    <tr>\n",
       "      <th>0</th>\n",
       "      <td>furhat_audio_</td>\n",
       "      <td>29</td>\n",
       "      <td>29</td>\n",
       "    </tr>\n",
       "    <tr>\n",
       "      <th>1</th>\n",
       "      <td>furhat_audio_</td>\n",
       "      <td>3</td>\n",
       "      <td>2</td>\n",
       "    </tr>\n",
       "    <tr>\n",
       "      <th>2</th>\n",
       "      <td>furhat_audio_</td>\n",
       "      <td>37</td>\n",
       "      <td>37</td>\n",
       "    </tr>\n",
       "    <tr>\n",
       "      <th>3</th>\n",
       "      <td>furhat_audio_</td>\n",
       "      <td>26</td>\n",
       "      <td>37</td>\n",
       "    </tr>\n",
       "    <tr>\n",
       "      <th>4</th>\n",
       "      <td>furhat_audio_</td>\n",
       "      <td>1</td>\n",
       "      <td>2</td>\n",
       "    </tr>\n",
       "  </tbody>\n",
       "</table>\n",
       "</div>"
      ]
     },
     "execution_count": 4,
     "metadata": {},
     "output_type": "execute_result"
    }
   ],
   "execution_count": 4
  },
  {
   "metadata": {
    "ExecuteTime": {
     "end_time": "2025-03-11T19:16:19.580479Z",
     "start_time": "2025-03-11T19:16:19.565710Z"
    }
   },
   "cell_type": "code",
   "source": [
    "df[\"accurate\"] = df[\"y\"] == df[\"y_pred\"]\n",
    "df[\"emotion\"] = df[\"y\"].map(Mapper.get_emotion_from_id)\n",
    "df.head()"
   ],
   "id": "9bd235bb62382f71",
   "outputs": [
    {
     "data": {
      "text/plain": [
       "       condition   y  y_pred  accurate             emotion\n",
       "0  furhat_audio_  29      29      True  interest_curiosity\n",
       "1  furhat_audio_   3       2     False               doubt\n",
       "2  furhat_audio_  37      37      True      disappointment\n",
       "3  furhat_audio_  26      37     False             boredom\n",
       "4  furhat_audio_   1       2     False           confusion"
      ],
      "text/html": [
       "<div>\n",
       "<style scoped>\n",
       "    .dataframe tbody tr th:only-of-type {\n",
       "        vertical-align: middle;\n",
       "    }\n",
       "\n",
       "    .dataframe tbody tr th {\n",
       "        vertical-align: top;\n",
       "    }\n",
       "\n",
       "    .dataframe thead th {\n",
       "        text-align: right;\n",
       "    }\n",
       "</style>\n",
       "<table border=\"1\" class=\"dataframe\">\n",
       "  <thead>\n",
       "    <tr style=\"text-align: right;\">\n",
       "      <th></th>\n",
       "      <th>condition</th>\n",
       "      <th>y</th>\n",
       "      <th>y_pred</th>\n",
       "      <th>accurate</th>\n",
       "      <th>emotion</th>\n",
       "    </tr>\n",
       "  </thead>\n",
       "  <tbody>\n",
       "    <tr>\n",
       "      <th>0</th>\n",
       "      <td>furhat_audio_</td>\n",
       "      <td>29</td>\n",
       "      <td>29</td>\n",
       "      <td>True</td>\n",
       "      <td>interest_curiosity</td>\n",
       "    </tr>\n",
       "    <tr>\n",
       "      <th>1</th>\n",
       "      <td>furhat_audio_</td>\n",
       "      <td>3</td>\n",
       "      <td>2</td>\n",
       "      <td>False</td>\n",
       "      <td>doubt</td>\n",
       "    </tr>\n",
       "    <tr>\n",
       "      <th>2</th>\n",
       "      <td>furhat_audio_</td>\n",
       "      <td>37</td>\n",
       "      <td>37</td>\n",
       "      <td>True</td>\n",
       "      <td>disappointment</td>\n",
       "    </tr>\n",
       "    <tr>\n",
       "      <th>3</th>\n",
       "      <td>furhat_audio_</td>\n",
       "      <td>26</td>\n",
       "      <td>37</td>\n",
       "      <td>False</td>\n",
       "      <td>boredom</td>\n",
       "    </tr>\n",
       "    <tr>\n",
       "      <th>4</th>\n",
       "      <td>furhat_audio_</td>\n",
       "      <td>1</td>\n",
       "      <td>2</td>\n",
       "      <td>False</td>\n",
       "      <td>confusion</td>\n",
       "    </tr>\n",
       "  </tbody>\n",
       "</table>\n",
       "</div>"
      ]
     },
     "execution_count": 7,
     "metadata": {},
     "output_type": "execute_result"
    }
   ],
   "execution_count": 7
  },
  {
   "metadata": {
    "ExecuteTime": {
     "end_time": "2025-03-11T19:14:34.210619Z",
     "start_time": "2025-03-11T19:14:34.206649Z"
    }
   },
   "cell_type": "code",
   "source": "df[\"condition\"].unique()",
   "id": "cc54da046e5e0c9a",
   "outputs": [
    {
     "data": {
      "text/plain": [
       "array(['furhat_audio_', 'metahuman_audio_', 'original_audio_',\n",
       "       'furhat_video', 'metahuman_video', 'original_video',\n",
       "       'furhat_audio_video', 'metahuman_audio_video',\n",
       "       'original_audio_video'], dtype=object)"
      ]
     },
     "execution_count": 5,
     "metadata": {},
     "output_type": "execute_result"
    }
   ],
   "execution_count": 5
  },
  {
   "metadata": {
    "ExecuteTime": {
     "end_time": "2025-03-11T19:16:25.014621Z",
     "start_time": "2025-03-11T19:16:25.005144Z"
    }
   },
   "cell_type": "code",
   "source": [
    "conditions = ['original_video', 'metahuman_video', 'furhat_video']\n",
    "\n",
    "for c in conditions:\n",
    "    print(\"\\nCondition:\", c)\n",
    "    df_c = df[df[\"condition\"] == c]\n",
    "\n",
    "    # Group the DataFrame by 'emotion_id' and calculate the accuracy for each ID\n",
    "    accuracy_by_emotion = df_c.groupby('emotion')['accurate'].mean().reset_index()\n",
    "\n",
    "    # Rename the columns for clarity\n",
    "    accuracy_by_emotion.columns = ['emotion', 'accuracy']\n",
    "\n",
    "    # Print or plot the accuracy results\n",
    "    print(accuracy_by_emotion.sort_values(by='accuracy', ascending=False))"
   ],
   "id": "72a827bde7a8d9c9",
   "outputs": [
    {
     "name": "stdout",
     "output_type": "stream",
     "text": [
      "\n",
      "Condition: original_video\n",
      "              emotion  accuracy\n",
      "0             boredom     0.875\n",
      "1       concentration     0.750\n",
      "2           confusion     0.750\n",
      "5               doubt     0.750\n",
      "3       determination     0.625\n",
      "6           gratitude     0.625\n",
      "4      disappointment     0.375\n",
      "7  interest_curiosity     0.375\n",
      "\n",
      "Condition: metahuman_video\n",
      "              emotion  accuracy\n",
      "1       concentration     0.375\n",
      "2           confusion     0.375\n",
      "4      disappointment     0.375\n",
      "0             boredom     0.250\n",
      "5               doubt     0.250\n",
      "6           gratitude     0.125\n",
      "3       determination     0.000\n",
      "7  interest_curiosity     0.000\n",
      "\n",
      "Condition: furhat_video\n",
      "              emotion  accuracy\n",
      "3       determination     0.375\n",
      "0             boredom     0.250\n",
      "2           confusion     0.250\n",
      "1       concentration     0.125\n",
      "4      disappointment     0.125\n",
      "5               doubt     0.125\n",
      "6           gratitude     0.125\n",
      "7  interest_curiosity     0.125\n"
     ]
    }
   ],
   "execution_count": 8
  },
  {
   "metadata": {
    "ExecuteTime": {
     "end_time": "2025-03-11T19:16:59.433584Z",
     "start_time": "2025-03-11T19:16:59.423087Z"
    }
   },
   "cell_type": "code",
   "source": [
    "accuracy_results = {}\n",
    "\n",
    "# Compute accuracy for each condition\n",
    "for c in conditions:\n",
    "    df_c = df[df[\"condition\"] == c]\n",
    "    accuracy_by_emotion = df_c.groupby('emotion')['accurate'].mean()\n",
    "    accuracy_results[c] = accuracy_by_emotion  # Store results in dictionary\n",
    "\n",
    "# Convert to DataFrame for easy comparison\n",
    "accuracy_df = pd.DataFrame(accuracy_results)\n",
    "\n",
    "# Calculate performance drop relative to 'original_video_' (assumed baseline)\n",
    "baseline = accuracy_df['original_video']\n",
    "performance_drop = accuracy_df.sub(baseline, axis=0)  # Subtract baseline from all conditions\n",
    "\n",
    "performance_drop"
   ],
   "id": "c49b43b0421c9e60",
   "outputs": [
    {
     "data": {
      "text/plain": [
       "                    original_video  metahuman_video  furhat_video\n",
       "emotion                                                          \n",
       "boredom                        0.0           -0.625        -0.625\n",
       "concentration                  0.0           -0.375        -0.625\n",
       "confusion                      0.0           -0.375        -0.500\n",
       "determination                  0.0           -0.625        -0.250\n",
       "disappointment                 0.0            0.000        -0.250\n",
       "doubt                          0.0           -0.500        -0.625\n",
       "gratitude                      0.0           -0.500        -0.500\n",
       "interest_curiosity             0.0           -0.375        -0.250"
      ],
      "text/html": [
       "<div>\n",
       "<style scoped>\n",
       "    .dataframe tbody tr th:only-of-type {\n",
       "        vertical-align: middle;\n",
       "    }\n",
       "\n",
       "    .dataframe tbody tr th {\n",
       "        vertical-align: top;\n",
       "    }\n",
       "\n",
       "    .dataframe thead th {\n",
       "        text-align: right;\n",
       "    }\n",
       "</style>\n",
       "<table border=\"1\" class=\"dataframe\">\n",
       "  <thead>\n",
       "    <tr style=\"text-align: right;\">\n",
       "      <th></th>\n",
       "      <th>original_video</th>\n",
       "      <th>metahuman_video</th>\n",
       "      <th>furhat_video</th>\n",
       "    </tr>\n",
       "    <tr>\n",
       "      <th>emotion</th>\n",
       "      <th></th>\n",
       "      <th></th>\n",
       "      <th></th>\n",
       "    </tr>\n",
       "  </thead>\n",
       "  <tbody>\n",
       "    <tr>\n",
       "      <th>boredom</th>\n",
       "      <td>0.0</td>\n",
       "      <td>-0.625</td>\n",
       "      <td>-0.625</td>\n",
       "    </tr>\n",
       "    <tr>\n",
       "      <th>concentration</th>\n",
       "      <td>0.0</td>\n",
       "      <td>-0.375</td>\n",
       "      <td>-0.625</td>\n",
       "    </tr>\n",
       "    <tr>\n",
       "      <th>confusion</th>\n",
       "      <td>0.0</td>\n",
       "      <td>-0.375</td>\n",
       "      <td>-0.500</td>\n",
       "    </tr>\n",
       "    <tr>\n",
       "      <th>determination</th>\n",
       "      <td>0.0</td>\n",
       "      <td>-0.625</td>\n",
       "      <td>-0.250</td>\n",
       "    </tr>\n",
       "    <tr>\n",
       "      <th>disappointment</th>\n",
       "      <td>0.0</td>\n",
       "      <td>0.000</td>\n",
       "      <td>-0.250</td>\n",
       "    </tr>\n",
       "    <tr>\n",
       "      <th>doubt</th>\n",
       "      <td>0.0</td>\n",
       "      <td>-0.500</td>\n",
       "      <td>-0.625</td>\n",
       "    </tr>\n",
       "    <tr>\n",
       "      <th>gratitude</th>\n",
       "      <td>0.0</td>\n",
       "      <td>-0.500</td>\n",
       "      <td>-0.500</td>\n",
       "    </tr>\n",
       "    <tr>\n",
       "      <th>interest_curiosity</th>\n",
       "      <td>0.0</td>\n",
       "      <td>-0.375</td>\n",
       "      <td>-0.250</td>\n",
       "    </tr>\n",
       "  </tbody>\n",
       "</table>\n",
       "</div>"
      ]
     },
     "execution_count": 10,
     "metadata": {},
     "output_type": "execute_result"
    }
   ],
   "execution_count": 10
  },
  {
   "metadata": {},
   "cell_type": "markdown",
   "source": "Note that the performance drop is bigger here compared to the human evaluation, this is because ML results are superior for original compared to human raters, the transfer slightly worse.",
   "id": "2124b7e443b72031"
  },
  {
   "metadata": {
    "ExecuteTime": {
     "end_time": "2025-03-11T19:17:15.168540Z",
     "start_time": "2025-03-11T19:17:15.029991Z"
    }
   },
   "cell_type": "code",
   "source": [
    "# Plot performance drop as a bar chart\n",
    "performance_drop.plot(kind='bar', figsize=(12, 6))\n",
    "\n",
    "# Formatting\n",
    "plt.axhline(0, color='black', linewidth=1)  # Add a horizontal line at 0 for reference\n",
    "plt.xticks(rotation=45, ha='right')\n",
    "plt.title(\"Performance Drop Compared to Original Video\")\n",
    "plt.ylabel(\"Accuracy Drop\")\n",
    "plt.xlabel(\"Emotion\")\n",
    "plt.legend(title=\"Condition\", loc=\"best\")\n",
    "plt.tight_layout()\n",
    "\n",
    "# Show plot\n",
    "plt.show()"
   ],
   "id": "2d49c0b3e8b319a5",
   "outputs": [
    {
     "data": {
      "text/plain": [
       "<Figure size 1200x600 with 1 Axes>"
      ],
      "image/png": "[encoded data removed]"
     },
     "metadata": {},
     "output_type": "display_data"
    }
   ],
   "execution_count": 11
  }
 ],
 "metadata": {
  "kernelspec": {
   "display_name": "Python 3",
   "language": "python",
   "name": "python3"
  },
  "language_info": {
   "codemirror_mode": {
    "name": "ipython",
    "version": 2
   },
   "file_extension": ".py",
   "mimetype": "text/x-python",
   "name": "python",
   "nbconvert_exporter": "python",
   "pygments_lexer": "ipython2",
   "version": "2.7.6"
  }
 },
 "nbformat": 4,
 "nbformat_minor": 5
}
